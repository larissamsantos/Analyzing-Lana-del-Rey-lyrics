{
 "cells": [
  {
   "cell_type": "code",
   "execution_count": 40,
   "id": "50de3670",
   "metadata": {},
   "outputs": [],
   "source": [
    "import bs4\n",
    "import urllib.request as urllib_request\n",
    "import pandas as pd\n",
    "from urllib.request import urlopen\n",
    "from bs4 import BeautifulSoup"
   ]
  },
  {
   "cell_type": "code",
   "execution_count": 41,
   "id": "b143017e",
   "metadata": {},
   "outputs": [],
   "source": [
    "url = 'https://www.vagalume.com.br/lana-del-rey/'\n",
    "\n",
    "response = urlopen(url)\n",
    "html = response.read()\n",
    "\n",
    "soup = BeautifulSoup(html, 'html.parser')"
   ]
  },
  {
   "cell_type": "code",
   "execution_count": 42,
   "id": "089cca46",
   "metadata": {},
   "outputs": [],
   "source": [
    "songs_links = []\n",
    "songs_names = []\n",
    "for item in soup.findAll('a', class_=\"nameMusic\"): \n",
    "    link = 'https://www.vagalume.com.br' + item.get('href')\n",
    "    songs_links.append(link)\n",
    "    song_name = item.get_text()\n",
    "    songs_names.append(song_name)"
   ]
  },
  {
   "cell_type": "code",
   "execution_count": 52,
   "id": "7bba190f",
   "metadata": {},
   "outputs": [],
   "source": [
    "lyrics = []\n",
    "for item in songs_links:\n",
    "    response = urlopen(item)\n",
    "    html = response.read()\n",
    "    soup = BeautifulSoup(html, 'html.parser')\n",
    "    lyric = soup.find('div', id='lyrics')\n",
    "    lyric = \" \".join(str(lyric).split()).replace('<br/>', ' ')\n",
    "    lyric = \" \".join(str(lyric).split()).replace(' data-plugin=\"googleTranslate\"', '')\n",
    "    lyric = \" \".join(str(lyric).split()).replace('<div id=\"lyrics\">\"', '')\n",
    "    lyric = \" \".join(str(lyric).split()).replace('<div id=\"lyrics\">', '')\n",
    "    lyric = \" \".join(str(lyric).split()).replace('\"</div>', '')\n",
    "    lyrics.append(lyric)"
   ]
  },
  {
   "cell_type": "code",
   "execution_count": 53,
   "id": "3cda8151",
   "metadata": {},
   "outputs": [
    {
     "data": {
      "text/plain": [
       "336"
      ]
     },
     "execution_count": 53,
     "metadata": {},
     "output_type": "execute_result"
    }
   ],
   "source": [
    "len(lyrics)"
   ]
  },
  {
   "cell_type": "code",
   "execution_count": 54,
   "id": "0af6239d",
   "metadata": {},
   "outputs": [],
   "source": [
    "data = [songs_names, songs_links, lyrics]"
   ]
  },
  {
   "cell_type": "code",
   "execution_count": 55,
   "id": "171e1313",
   "metadata": {},
   "outputs": [],
   "source": [
    "lyrics_df = pd.DataFrame()"
   ]
  },
  {
   "cell_type": "code",
   "execution_count": 56,
   "id": "e56c4f4c",
   "metadata": {},
   "outputs": [],
   "source": [
    "lyrics_df['Name'] = songs_names"
   ]
  },
  {
   "cell_type": "code",
   "execution_count": 57,
   "id": "50398cbd",
   "metadata": {},
   "outputs": [],
   "source": [
    "lyrics_df['Link'] = songs_links\n",
    "lyrics_df['Lyrics'] = lyrics"
   ]
  },
  {
   "cell_type": "code",
   "execution_count": 58,
   "id": "e4e01c9c",
   "metadata": {},
   "outputs": [],
   "source": [
    "lyrics_df.to_csv('lyrics.csv')"
   ]
  }
 ],
 "metadata": {
  "kernelspec": {
   "display_name": "Python 3 (ipykernel)",
   "language": "python",
   "name": "python3"
  },
  "language_info": {
   "codemirror_mode": {
    "name": "ipython",
    "version": 3
   },
   "file_extension": ".py",
   "mimetype": "text/x-python",
   "name": "python",
   "nbconvert_exporter": "python",
   "pygments_lexer": "ipython3",
   "version": "3.9.7"
  }
 },
 "nbformat": 4,
 "nbformat_minor": 5
}
